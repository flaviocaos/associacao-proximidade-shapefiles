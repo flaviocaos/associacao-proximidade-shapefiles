
# Associação Espacial por Proximidade com Filtro Geográfico

Este notebook realiza a associação de pontos a lotes por proximidade, utilizando buffer espacial e árvore de vizinhança com cKDTree.

## Etapas:
1. Leitura dos dados (GeoPandas)
2. Verificação e unificação do sistema de coordenadas
3. Geração da área de interesse com buffer
4. Filtro espacial dos pontos dentro da área
5. Cálculo de centróides e associação com cKDTree
6. Exportação dos dados resultantes

